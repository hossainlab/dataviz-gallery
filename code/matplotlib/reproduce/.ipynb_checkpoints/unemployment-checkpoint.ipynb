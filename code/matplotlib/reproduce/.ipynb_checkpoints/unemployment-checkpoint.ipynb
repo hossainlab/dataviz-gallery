{
 "cells": [
  {
   "cell_type": "code",
   "execution_count": 1,
   "id": "2822d279-f4df-43ac-a26e-77f43501ff92",
   "metadata": {},
   "outputs": [],
   "source": [
    "import numpy as np \n",
    "import pandas as pd \n",
    "import matplotlib.pyplot as plt"
   ]
  },
  {
   "cell_type": "code",
   "execution_count": 5,
   "id": "d6bb5d80-9aa0-4b15-bd07-ed9201beb337",
   "metadata": {},
   "outputs": [
    {
     "data": {
      "text/html": [
       "<div>\n",
       "<style scoped>\n",
       "    .dataframe tbody tr th:only-of-type {\n",
       "        vertical-align: middle;\n",
       "    }\n",
       "\n",
       "    .dataframe tbody tr th {\n",
       "        vertical-align: top;\n",
       "    }\n",
       "\n",
       "    .dataframe thead th {\n",
       "        text-align: right;\n",
       "    }\n",
       "</style>\n",
       "<table border=\"1\" class=\"dataframe\">\n",
       "  <thead>\n",
       "    <tr style=\"text-align: right;\">\n",
       "      <th></th>\n",
       "      <th>Year</th>\n",
       "      <th>Country</th>\n",
       "      <th>Unemployment_Rate</th>\n",
       "    </tr>\n",
       "  </thead>\n",
       "  <tbody>\n",
       "    <tr>\n",
       "      <th>0</th>\n",
       "      <td>2020</td>\n",
       "      <td>australia</td>\n",
       "      <td>5.2</td>\n",
       "    </tr>\n",
       "    <tr>\n",
       "      <th>1</th>\n",
       "      <td>2021</td>\n",
       "      <td>australia</td>\n",
       "      <td>5.1</td>\n",
       "    </tr>\n",
       "    <tr>\n",
       "      <th>2</th>\n",
       "      <td>2022</td>\n",
       "      <td>australia</td>\n",
       "      <td>4.0</td>\n",
       "    </tr>\n",
       "    <tr>\n",
       "      <th>3</th>\n",
       "      <td>2023</td>\n",
       "      <td>australia</td>\n",
       "      <td>3.7</td>\n",
       "    </tr>\n",
       "    <tr>\n",
       "      <th>4</th>\n",
       "      <td>2024</td>\n",
       "      <td>australia</td>\n",
       "      <td>3.5</td>\n",
       "    </tr>\n",
       "  </tbody>\n",
       "</table>\n",
       "</div>"
      ],
      "text/plain": [
       "   Year    Country  Unemployment_Rate\n",
       "0  2020  australia                5.2\n",
       "1  2021  australia                5.1\n",
       "2  2022  australia                4.0\n",
       "3  2023  australia                3.7\n",
       "4  2024  australia                3.5"
      ]
     },
     "execution_count": 5,
     "metadata": {},
     "output_type": "execute_result"
    }
   ],
   "source": [
    "# Data for the plot (replace with your actual data)\n",
    "data = {\n",
    "    'Year': [2020, 2021, 2022, 2023, 2024] * 9,  # Repeat years for each country\n",
    "    'Country': ['australia'] * 5 + ['canada'] * 5 + ['china'] * 5 + ['europe'] * 5 + \n",
    "               ['japan'] * 5 + ['new zealand'] * 5 + ['switzerland'] * 5 + \n",
    "               ['united kingdom'] * 5 + ['united states'] * 5,\n",
    "    'Unemployment_Rate': [5.2, 5.1, 4.0, 3.7, 3.5, 9.5, 7.4, 5.5, 5.4, 5.1, \n",
    "                            5.7, 5.3, 5.1, 5.2, 5.0, 8.3, 7.5, 6.4, 6.1, 5.8,\n",
    "                            2.4, 2.5, 2.3, 2.2, 2.1, 4.0, 4.7, 3.4, 3.3, 3.2,\n",
    "                            2.9, 3.0, 2.5, 2.3, 2.1, 5.0, 4.5, 4.2, 4.0, 3.8,\n",
    "                            8.1, 6.0, 3.7, 3.5, 3.3]\n",
    "}\n",
    "df = pd.DataFrame(data)\n",
    "df.head()"
   ]
  },
  {
   "cell_type": "code",
   "execution_count": 6,
   "id": "f85aa9a4-7b08-426f-a56a-7993dd4b1ecb",
   "metadata": {},
   "outputs": [],
   "source": [
    "# Colors for each country (you can customize these)\n",
    "country_colors = {\n",
    "    'australia': '#8e44ad',  # Purple\n",
    "    'canada': '#2980b9',  # Blue\n",
    "    'china': '#c0392b',  # Red\n",
    "    'europe': '#27ae60',  # Green\n",
    "    'japan': '#f39c12',  # Orange\n",
    "    'new zealand': '#34495e',  # Dark Blue\n",
    "    'switzerland': '#16a085',  # Teal\n",
    "    'united kingdom': '#d35400',  # Dark Orange\n",
    "    'united states': '#95a5a6'  # Gray\n",
    "}"
   ]
  },
  {
   "cell_type": "code",
   "execution_count": null,
   "id": "d0ec2e27-2094-47f9-9986-cfabcb760f9e",
   "metadata": {},
   "outputs": [],
   "source": []
  },
  {
   "cell_type": "code",
   "execution_count": null,
   "id": "59c1c71d-27e9-43e5-80f0-ef4f32e58ec5",
   "metadata": {},
   "outputs": [],
   "source": []
  }
 ],
 "metadata": {
  "kernelspec": {
   "display_name": "Python 3 (ipykernel)",
   "language": "python",
   "name": "python3"
  },
  "language_info": {
   "codemirror_mode": {
    "name": "ipython",
    "version": 3
   },
   "file_extension": ".py",
   "mimetype": "text/x-python",
   "name": "python",
   "nbconvert_exporter": "python",
   "pygments_lexer": "ipython3",
   "version": "3.8.18"
  }
 },
 "nbformat": 4,
 "nbformat_minor": 5
}
